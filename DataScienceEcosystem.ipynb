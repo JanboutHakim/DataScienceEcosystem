{
 "cells": [
  {
   "cell_type": "markdown",
   "id": "a0e2de41-facd-42ce-b29b-ed978a954887",
   "metadata": {},
   "source": [
    "# Data Science Tools and Ecosystem\n"
   ]
  },
  {
   "cell_type": "markdown",
   "id": "6e98a9f8-2ceb-441d-b53b-35e812fdfe2b",
   "metadata": {},
   "source": [
    "**In this notebook, Data Science Tools and Ecosystem are summarized.**"
   ]
  },
  {
   "cell_type": "markdown",
   "id": "b5b35af8-8980-4322-b1d8-adca212a0af9",
   "metadata": {},
   "source": [
    "## Some of the popular languages that Data Scientists use are:\n",
    "1. python\n",
    "2. R\n",
    "3. C++"
   ]
  },
  {
   "cell_type": "markdown",
   "id": "2d8e984b-39f3-4203-a214-9bb51d2b008f",
   "metadata": {},
   "source": [
    "## Some of the commonly used libraries used by Data Scientists include\n",
    "1. Pandas\n",
    "2. Numpy\n",
    "3. Matplot"
   ]
  },
  {
   "cell_type": "markdown",
   "id": "0b0d1065-b327-456a-9359-ee2c77bcb437",
   "metadata": {},
   "source": [
    "## Objectives:\n",
    "####  Popular Python Libraries for Data Scienc\n",
    "* Pandas\n",
    "* Matplot\n",
    "* TensorFlow\n",
    "* Pytourch\n",
    "* SKT-Learn"
   ]
  },
  {
   "cell_type": "markdown",
   "id": "86cbfacf-d529-4332-aa65-423020281131",
   "metadata": {},
   "source": [
    "# Data Science Tools\n",
    "|JupyterNotebook|IBM waston|R-Studio|\n",
    "|---------------|----------|--------|"
   ]
  },
  {
   "cell_type": "markdown",
   "id": "d2fc3b0f-2e86-4d9d-8eda-87a4699896fb",
   "metadata": {},
   "source": [
    "### Below are a few examples of evaluating arithmetic expressions in Python"
   ]
  },
  {
   "cell_type": "code",
   "execution_count": 1,
   "id": "4cdc41d9-78e7-424e-981e-efca1c19466b",
   "metadata": {},
   "outputs": [
    {
     "data": {
      "text/plain": [
       "17"
      ]
     },
     "execution_count": 1,
     "metadata": {},
     "output_type": "execute_result"
    }
   ],
   "source": [
    "#This a simple arithmetic expression to mutiply then add integers\n",
    "(3*4)+5"
   ]
  },
  {
   "cell_type": "code",
   "execution_count": 4,
   "id": "3f740463-7176-4d84-a8e4-081408091eef",
   "metadata": {},
   "outputs": [
    {
     "data": {
      "text/plain": [
       "3.3333333333333335"
      ]
     },
     "execution_count": 4,
     "metadata": {},
     "output_type": "execute_result"
    }
   ],
   "source": [
    "# This will convert 200 minutes to hours by diving by 60\n",
    "200/60"
   ]
  },
  {
   "cell_type": "markdown",
   "id": "481a4d98-5990-44e6-a92b-b5f9688d95d6",
   "metadata": {},
   "source": [
    "## Author\n",
    "Janbout Hakim"
   ]
  },
  {
   "cell_type": "code",
   "execution_count": null,
   "id": "b9f56ea8-d4e6-459b-a0d4-0a0ab9226ac9",
   "metadata": {},
   "outputs": [],
   "source": []
  }
 ],
 "metadata": {
  "kernelspec": {
   "display_name": "Python 3 (ipykernel)",
   "language": "python",
   "name": "python3"
  },
  "language_info": {
   "codemirror_mode": {
    "name": "ipython",
    "version": 3
   },
   "file_extension": ".py",
   "mimetype": "text/x-python",
   "name": "python",
   "nbconvert_exporter": "python",
   "pygments_lexer": "ipython3",
   "version": "3.10.9"
  }
 },
 "nbformat": 4,
 "nbformat_minor": 5
}
